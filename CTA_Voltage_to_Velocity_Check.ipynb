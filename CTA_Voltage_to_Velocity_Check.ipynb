{
 "cells": [
  {
   "cell_type": "markdown",
   "metadata": {},
   "source": [
    "# Hot-wire Anemometer (CTA) Voltage to Velocity Conversion\n",
    "\n",
    "This notebook performs the conversion of output voltage values from a Constant Temperature Anemometer (CTA) into velocity. The script calculates the velocities based on given calibration coefficients and environmental conditions, and outputs both the streamwise (`u`) and crosswise (`v`) velocity components. It also verifies that the conversion is correctly performed.\n",
    "\n",
    "## Variables and Parameters:\n",
    "- `V0_ai0`, `V0_ai1`: Initial output voltages from the hot-wire sensors.\n",
    "- `t_w`, `t`: Wire temperature and ambient temperature.\n",
    "- `P_a`, `P`: Ambient pressure and reference pressure.\n",
    "- `K_A`, `K_B`, `A_A`, `A_B`, `B_A`, `B_B`, `C_A`, `C_B`, `D_A`, `D_B`: Calibration coefficients for the velocity calculation."
   ]
  },
  {
   "cell_type": "code",
   "execution_count": 2,
   "metadata": {},
   "outputs": [],
   "source": [
    "# Initial output voltages from hot-wire sensors\n",
    "V0_ai0 = 3.025789\n",
    "V0_ai1 = 2.928701\n",
    "\n",
    "# Temperatures and pressures\n",
    "t_w = 150  # Wire temperature (°C)\n",
    "t = 25  # Reference temperature (°C)\n",
    "t_a = 25.1  # Ambient temperature (°C)\n",
    "\n",
    "P_a = 1013  # Ambient pressure (hPa)\n",
    "P = 1014.4  # Reference pressure (hPa)\n",
    "\n",
    "# Calibration coefficients for sensor A\n",
    "K_A = 11.643876\n",
    "A_A = -16.507126\n",
    "B_A = 8.032713\n",
    "C_A = -1.760633\n",
    "D_A = 0.213816\n",
    "\n",
    "# Calibration coefficients for sensor B\n",
    "K_B = 15.167736\n",
    "A_B = -21.464425\n",
    "B_B = 10.525529\n",
    "C_B = -2.308103\n",
    "D_B = 0.265046"
   ]
  },
  {
   "cell_type": "code",
   "execution_count": 3,
   "metadata": {},
   "outputs": [
    {
     "name": "stdout",
     "output_type": "stream",
     "text": [
      "u (streamwise velocity): 5.984481442500994\n",
      "v (crosswise velocity): 0.2001490574622738\n"
     ]
    }
   ],
   "source": [
    "# Adjust voltage values based on temperature difference for sensor A and B\n",
    "V_ai0 = V0_ai0 * ((t_w - t_a) / (t_w - t)) ** 0.5\n",
    "V_ai1 = V0_ai1 * ((t_w - t_a) / (t_w - t)) ** 0.5\n",
    "\n",
    "# Compute the initial velocity for sensor A and B using the calibration coefficients\n",
    "U0_ai0 = K_A + A_A * V_ai0 + B_A * V_ai0**2 + C_A * V_ai0**3 + D_A * V_ai0**4\n",
    "U0_ai1 = K_B + A_B * V_ai1 + B_B * V_ai1**2 + C_B * V_ai1**3 + D_B * V_ai1**4\n",
    "\n",
    "# Adjust the velocities based on the pressure ratio\n",
    "U_ai0 = (P_a / P) * U0_ai0\n",
    "U_ai1 = (P_a / P) * U0_ai1\n",
    "\n",
    "# Compute the streamwise (u) and crosswise (v) velocity components\n",
    "u = 1 / 2**0.5 * (U_ai0 + U_ai1)\n",
    "v = 1 / 2**0.5 * (U_ai0 - U_ai1)\n",
    "\n",
    "# Output the results\n",
    "print(f\"u (streamwise velocity): {u}\")\n",
    "print(f\"v (crosswise velocity): {v}\")"
   ]
  }
 ],
 "metadata": {
  "kernelspec": {
   "display_name": "venv",
   "language": "python",
   "name": "python3"
  },
  "language_info": {
   "codemirror_mode": {
    "name": "ipython",
    "version": 3
   },
   "file_extension": ".py",
   "mimetype": "text/x-python",
   "name": "python",
   "nbconvert_exporter": "python",
   "pygments_lexer": "ipython3",
   "version": "3.12.2"
  }
 },
 "nbformat": 4,
 "nbformat_minor": 2
}
