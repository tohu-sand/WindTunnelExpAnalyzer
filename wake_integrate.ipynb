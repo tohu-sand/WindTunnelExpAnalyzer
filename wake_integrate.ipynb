{
 "cells": [
  {
   "cell_type": "code",
   "execution_count": 1,
   "metadata": {},
   "outputs": [],
   "source": [
    "import numpy as np\n",
    "import os\n",
    "from scipy import integrate"
   ]
  },
  {
   "cell_type": "code",
   "execution_count": 9,
   "metadata": {},
   "outputs": [],
   "source": [
    "# Define the reference origin\n",
    "origin = 0\n",
    "\n",
    "\n",
    "# Function to read velocity data, including turbulence intensity, from CSV files\n",
    "def read_velocity_data(folder, case):\n",
    "    coordinates = []  # List to store coordinates\n",
    "    u_mean_velocities = []  # List to store mean velocities\n",
    "    u_turbulence_intensities = []  # List to store turbulence intensities\n",
    "    folder_path = f\"data/{folder}\"\n",
    "\n",
    "    # Loop through all files in the folder\n",
    "    for filename in os.listdir(folder_path):\n",
    "        if filename.endswith(\"_summary.csv\"):\n",
    "            # Extract the coordinate from the filename (e.g., data20.00_summary.csv -> 20.00mm)\n",
    "            coordinate = float(\n",
    "                filename.split(f\"{folder}_vertical_0deg_{case}_17Hz_xc200\")[1].split(\n",
    "                    \"_\"\n",
    "                )[0]\n",
    "            )\n",
    "            # Adjust the coordinate relative to the origin (308.5mm)\n",
    "            relative_coordinate = coordinate - origin\n",
    "            coordinates.append(relative_coordinate)\n",
    "\n",
    "            # Read the CSV file\n",
    "            file_path = os.path.join(folder_path, filename)\n",
    "            with open(file_path, \"r\") as file:\n",
    "                lines = file.readlines()\n",
    "\n",
    "                # Look for the line containing U direction mean velocity and turbulence intensity\n",
    "                for line in lines:\n",
    "                    if line.startswith(\"U\"):\n",
    "                        # Split the line by commas, 2nd is mean velocity, 6th is turbulence intensity\n",
    "                        data = line.split(\",\")\n",
    "                        u_mean_velocity = float(data[1])\n",
    "                        u_turbulence_intensity = float(\n",
    "                            data[5]\n",
    "                        )  # 6th element is turbulence intensity\n",
    "                        u_mean_velocities.append(u_mean_velocity)\n",
    "                        u_turbulence_intensities.append(u_turbulence_intensity)\n",
    "                        break\n",
    "\n",
    "    # Sort the data based on coordinates\n",
    "    sorted_data = sorted(zip(coordinates, u_mean_velocities, u_turbulence_intensities))\n",
    "    coordinates, u_mean_velocities, u_turbulence_intensities = zip(*sorted_data)\n",
    "\n",
    "    return coordinates, u_mean_velocities, u_turbulence_intensities\n"
   ]
  },
  {
   "cell_type": "code",
   "execution_count": 5,
   "metadata": {},
   "outputs": [],
   "source": [
    "case1 = \"nb\"\n",
    "case2 = \"cc\"\n",
    "\n",
    "# List of folders to compare (up to 10 folders)\n",
    "# folders1 = [\n",
    "#     # \"20241222_01\",\n",
    "#     \"20241222_04\",\n",
    "#     \"20241222_06\",\n",
    "#     \"20241222_07\",\n",
    "#     \"20241222_09\",\n",
    "#     # \"20241222_12\",\n",
    "# ]\n",
    "\n",
    "# folders2 = [\n",
    "#     # \"20241222_02\",\n",
    "#     # \"20241222_03\",\n",
    "#     \"20241222_05\",\n",
    "#     \"20241222_08\",\n",
    "#     \"20241222_10\",\n",
    "#     \"20241222_11\",\n",
    "# ]\n",
    "\n",
    "folders1 = [\n",
    "    # nb\n",
    "    \"20250121_01\",\n",
    "    \"20250121_04\",\n",
    "    \"20250121_06\",\n",
    "    \"20250121_07\",\n",
    "]\n",
    "\n",
    "folders2 = [\n",
    "    # cc\n",
    "    \"20250121_02\",\n",
    "    \"20250121_03\",\n",
    "    \"20250121_05\",\n",
    "    \"20250121_08\",\n",
    "]\n",
    "\n",
    "# folders2 = [\n",
    "#     # wb\n",
    "#     \"20241217_09\",\n",
    "#     \"20241217_12\",\n",
    "#     \"20241217_16\",\n",
    "#     \"20241217_21\",\n",
    "# ]\n",
    "\n",
    "# folders2 = [\n",
    "#     # ws\n",
    "#     \"20250121_01\",\n",
    "#     \"20250121_04\",\n",
    "#     \"20250121_06\",\n",
    "#     \"20250121_07\",\n",
    "# ]"
   ]
  },
  {
   "cell_type": "code",
   "execution_count": 23,
   "metadata": {},
   "outputs": [],
   "source": [
    "# Load HW data from CSV files\n",
    "\n",
    "# Initialize lists to store data for averaging\n",
    "all_mean_velocities_case1 = []\n",
    "all_mean_velocities_case2 = []\n",
    "\n",
    "# Loop through folders and collect mean velocity data for case1\n",
    "for folder in folders1:\n",
    "    coordinates, u_mean_velocities, _ = read_velocity_data(folder, case1)\n",
    "    all_mean_velocities_case1.append(u_mean_velocities)\n",
    "\n",
    "# Loop through folders and collect mean velocity data for case2\n",
    "for folder in folders2:\n",
    "    _, u_mean_velocities, _ = read_velocity_data(folder, case2)\n",
    "    all_mean_velocities_case2.append(u_mean_velocities)\n",
    "\n",
    "# Convert coordinates to meters\n",
    "coordinates = np.array(coordinates) * 1e-3\n",
    "\n",
    "# Convert lists to arrays for easier averaging\n",
    "all_mean_velocities_case1 = np.array(all_mean_velocities_case1)\n",
    "all_mean_velocities_case2 = np.array(all_mean_velocities_case2)\n",
    "\n",
    "# Compute the mean, max, and min mean velocities across folders for case1\n",
    "mean_velocities_case1 = np.mean(all_mean_velocities_case1, axis=0)\n",
    "mean_velocities_case2 = np.mean(all_mean_velocities_case2, axis=0)\n"
   ]
  },
  {
   "cell_type": "code",
   "execution_count": 5,
   "metadata": {},
   "outputs": [],
   "source": [
    "# Load PT data from CSV files"
   ]
  },
  {
   "cell_type": "code",
   "execution_count": 6,
   "metadata": {},
   "outputs": [],
   "source": [
    "# Compare flow rate of HW and PT\n",
    "\n",
    "Q_hw_trapz = integrate.trapezoid(mean_velocities_case1, coordinates)\n",
    "Q_hw_simps = integrate.simpson(mean_velocities_case1, coordinates)"
   ]
  },
  {
   "cell_type": "code",
   "execution_count": 7,
   "metadata": {},
   "outputs": [
    {
     "name": "stdout",
     "output_type": "stream",
     "text": [
      "248.00462042296465\n",
      "248.05590902026628\n"
     ]
    }
   ],
   "source": [
    "z_integrate_trapz = integrate.trapezoid(mean_velocities_case1**2, coordinates)\n",
    "z_integrate_simps = integrate.simpson(mean_velocities_case1**2, coordinates)\n",
    "\n",
    "print(z_integrate_trapz)\n",
    "print(z_integrate_simps)"
   ]
  }
 ],
 "metadata": {
  "kernelspec": {
   "display_name": "venv",
   "language": "python",
   "name": "python3"
  },
  "language_info": {
   "codemirror_mode": {
    "name": "ipython",
    "version": 3
   },
   "file_extension": ".py",
   "mimetype": "text/x-python",
   "name": "python",
   "nbconvert_exporter": "python",
   "pygments_lexer": "ipython3",
   "version": "3.12.2"
  }
 },
 "nbformat": 4,
 "nbformat_minor": 2
}
